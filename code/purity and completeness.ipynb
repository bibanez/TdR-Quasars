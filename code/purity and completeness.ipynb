{
 "cells": [
  {
   "cell_type": "markdown",
   "metadata": {},
   "source": [
    "# Here are the list of datasets"
   ]
  },
  {
   "cell_type": "code",
   "execution_count": 1,
   "metadata": {},
   "outputs": [
    {
     "name": "stdout",
     "output_type": "stream",
     "text": [
      "validation samples:\n",
      " * ..\\candidates_width70_sig6_validation_64plates_sample0.json\n",
      " * ..\\candidates_width70_sig6_validation_64plates_sample1.json\n",
      " * ..\\candidates_width70_sig6_validation_64plates_sample2.json\n",
      " * ..\\candidates_width70_sig6_validation_64plates_sample3.json\n",
      " * ..\\candidates_width70_sig6_validation_64plates_sample4.json\n",
      " * ..\\candidates_width70_sig6_validation_64plates_sample5.json\n",
      " * ..\\candidates_width70_sig6_validation_64plates_sample6.json\n",
      " * ..\\candidates_width70_sig6_validation_64plates_sample7.json\n",
      "quasar validation samples:\n",
      " * ../original_samples\\quasars_validation_64plates_sample0.json\n",
      " * ../original_samples\\quasars_validation_64plates_sample1.json\n",
      " * ../original_samples\\quasars_validation_64plates_sample2.json\n",
      " * ../original_samples\\quasars_validation_64plates_sample3.json\n",
      " * ../original_samples\\quasars_validation_64plates_sample4.json\n",
      " * ../original_samples\\quasars_validation_64plates_sample5.json\n",
      " * ../original_samples\\quasars_validation_64plates_sample6.json\n",
      " * ../original_samples\\quasars_validation_64plates_sample7.json\n"
     ]
    }
   ],
   "source": [
    "import glob\n",
    "val_samples = sorted(glob.glob('../*validation*'))\n",
    "quasar_val_samples = sorted(glob.glob('../original_samples/*validation*'))\n",
    "\n",
    "print(\"validation samples:\\n * \", end='')\n",
    "print(\"\\n * \".join(val_samples))\n",
    "print(\"quasar validation samples:\\n * \", end='')\n",
    "print(\"\\n * \".join(quasar_val_samples))\n"
   ]
  },
  {
   "cell_type": "markdown",
   "metadata": {},
   "source": [
    "# Load datasets"
   ]
  },
  {
   "cell_type": "code",
   "execution_count": 2,
   "metadata": {},
   "outputs": [],
   "source": [
    "from squeze.squeze_common_functions import load_json, deserialize\n",
    "val_dfs = [deserialize(load_json(sample)) for sample in val_samples]\n",
    "quasar_val_dfs = [deserialize(load_json(sample)) for sample in quasar_val_samples]"
   ]
  },
  {
   "cell_type": "markdown",
   "metadata": {},
   "source": [
    "# Compute purity and completeness"
   ]
  },
  {
   "cell_type": "code",
   "execution_count": 3,
   "metadata": {},
   "outputs": [],
   "source": [
    "from candidates import CombCandidates\n",
    "candidates = CombCandidates(mode=\"test\")"
   ]
  },
  {
   "cell_type": "code",
   "execution_count": 4,
   "metadata": {},
   "outputs": [
    {
     "name": "stdout",
     "output_type": "stream",
     "text": [
      "\n",
      "-----------------------------------\n",
      "Statistics for validation sample 0\n",
      "-----------------------------------\n",
      "\n",
      "There are 6302 candidates  \n",
      "for 6176 catalogued quasars \n",
      "number of quasars = 6176 \n",
      "found quasars = 6053 \n",
      "completeness = 98.01% \n",
      "completeness z>=1 = 98.67% \n",
      "completeness z>=2.1 = 99.08% \n",
      "purity = 96.05% \n",
      "purity z >=1 = 98.01% \n",
      "purity z >=2.1 = 99.77% \n",
      "\n",
      "-----------------------------------\n",
      "Statistics for validation sample 1\n",
      "-----------------------------------\n",
      "\n",
      "There are 6499 candidates  \n",
      "for 6441 catalogued quasars \n",
      "number of quasars = 6441 \n",
      "found quasars = 6288 \n",
      "completeness = 97.62% \n",
      "completeness z>=1 = 98.54% \n",
      "completeness z>=2.1 = 98.89% \n",
      "purity = 96.75% \n",
      "purity z >=1 = 98.01% \n",
      "purity z >=2.1 = 99.65% \n",
      "\n",
      "-----------------------------------\n",
      "Statistics for validation sample 2\n",
      "-----------------------------------\n",
      "\n",
      "There are 6415 candidates  \n",
      "for 6353 catalogued quasars \n",
      "number of quasars = 6353 \n",
      "found quasars = 6201 \n",
      "completeness = 97.61% \n",
      "completeness z>=1 = 98.40% \n",
      "completeness z>=2.1 = 98.77% \n",
      "purity = 96.66% \n",
      "purity z >=1 = 97.91% \n",
      "purity z >=2.1 = 99.65% \n",
      "\n",
      "-----------------------------------\n",
      "Statistics for validation sample 3\n",
      "-----------------------------------\n",
      "\n",
      "There are 6433 candidates  \n",
      "for 6359 catalogued quasars \n",
      "number of quasars = 6359 \n",
      "found quasars = 6218 \n",
      "completeness = 97.78% \n",
      "completeness z>=1 = 98.32% \n",
      "completeness z>=2.1 = 98.72% \n",
      "purity = 96.66% \n",
      "purity z >=1 = 97.88% \n",
      "purity z >=2.1 = 99.68% \n",
      "\n",
      "-----------------------------------\n",
      "Statistics for validation sample 4\n",
      "-----------------------------------\n",
      "\n",
      "There are 6591 candidates  \n",
      "for 6503 catalogued quasars \n",
      "number of quasars = 6503 \n",
      "found quasars = 6345 \n",
      "completeness = 97.57% \n",
      "completeness z>=1 = 98.40% \n",
      "completeness z>=2.1 = 98.69% \n",
      "purity = 96.27% \n",
      "purity z >=1 = 97.80% \n",
      "purity z >=2.1 = 99.68% \n",
      "\n",
      "-----------------------------------\n",
      "Statistics for validation sample 5\n",
      "-----------------------------------\n",
      "\n",
      "There are 6515 candidates  \n",
      "for 6434 catalogued quasars \n",
      "number of quasars = 6434 \n",
      "found quasars = 6292 \n",
      "completeness = 97.79% \n",
      "completeness z>=1 = 98.67% \n",
      "completeness z>=2.1 = 99.11% \n",
      "purity = 96.58% \n",
      "purity z >=1 = 97.63% \n",
      "purity z >=2.1 = 99.82% \n",
      "\n",
      "-----------------------------------\n",
      "Statistics for validation sample 6\n",
      "-----------------------------------\n",
      "\n",
      "There are 6517 candidates  \n",
      "for 6453 catalogued quasars \n",
      "number of quasars = 6453 \n",
      "found quasars = 6308 \n",
      "completeness = 97.75% \n",
      "completeness z>=1 = 98.39% \n",
      "completeness z>=2.1 = 98.83% \n",
      "purity = 96.79% \n",
      "purity z >=1 = 97.98% \n",
      "purity z >=2.1 = 99.76% \n",
      "\n",
      "-----------------------------------\n",
      "Statistics for validation sample 7\n",
      "-----------------------------------\n",
      "\n",
      "There are 6785 candidates  \n",
      "for 6722 catalogued quasars \n",
      "number of quasars = 6722 \n",
      "found quasars = 6572 \n",
      "completeness = 97.77% \n",
      "completeness z>=1 = 98.63% \n",
      "completeness z>=2.1 = 98.93% \n",
      "purity = 96.86% \n",
      "purity z >=1 = 98.07% \n",
      "purity z >=2.1 = 99.68% \n"
     ]
    }
   ],
   "source": [
    "prob = 0.32\n",
    "\n",
    "for (i, data_frame), quasar_df in zip(enumerate(val_dfs), quasar_val_dfs):\n",
    "    print(\"\\n-----------------------------------\")\n",
    "    print(\"Statistics for validation sample {}\".format(i))\n",
    "    print(\"-----------------------------------\\n\")\n",
    "    candidates.find_completeness_purity(quasar_df, data_frame[(data_frame[\"prob\"] > prob) &\n",
    "                                                              ~(data_frame[\"duplicated\"]) &\n",
    "                                                              (data_frame[\"z_conf_person\"] == 3)])"
   ]
  },
  {
   "cell_type": "markdown",
   "metadata": {},
   "source": [
    "# Reproduce SQUEzE I results\n",
    "\n",
    "## List of datasets"
   ]
  },
  {
   "cell_type": "code",
   "execution_count": 5,
   "metadata": {},
   "outputs": [
    {
     "name": "stdout",
     "output_type": "stream",
     "text": [
      "test samples:\n",
      " * ..\\candidates_width70_sig6_validation_64plates_sample0.json\n",
      " * ..\\candidates_width70_sig6_validation_64plates_sample1.json\n",
      " * ..\\candidates_width70_sig6_validation_64plates_sample2.json\n",
      " * ..\\candidates_width70_sig6_validation_64plates_sample3.json\n",
      " * ..\\candidates_width70_sig6_validation_64plates_sample4.json\n",
      " * ..\\candidates_width70_sig6_validation_64plates_sample5.json\n",
      " * ..\\candidates_width70_sig6_validation_64plates_sample6.json\n",
      " * ..\\candidates_width70_sig6_validation_64plates_sample7.json\n",
      "quasar test samples:\n",
      " * ../original_samples\\quasars_test_64plates_sample0.json\n",
      " * ../original_samples\\quasars_test_64plates_sample1.json\n",
      " * ../original_samples\\quasars_test_64plates_sample2.json\n",
      " * ../original_samples\\quasars_test_64plates_sample3.json\n",
      " * ../original_samples\\quasars_test_64plates_sample4.json\n",
      " * ../original_samples\\quasars_test_64plates_sample5.json\n",
      " * ../original_samples\\quasars_test_64plates_sample6.json\n",
      " * ../original_samples\\quasars_test_64plates_sample7.json\n"
     ]
    }
   ],
   "source": [
    "import glob\n",
    "test_samples = sorted(glob.glob('../*test*'))\n",
    "quasar_test_samples = sorted(glob.glob('../original_samples/*test*'))\n",
    "\n",
    "print(\"test samples:\\n * \", end='')\n",
    "print(\"\\n * \".join(val_samples))\n",
    "print(\"quasar test samples:\\n * \", end='')\n",
    "print(\"\\n * \".join(quasar_test_samples))"
   ]
  },
  {
   "cell_type": "markdown",
   "metadata": {},
   "source": [
    "## Load datasets"
   ]
  },
  {
   "cell_type": "code",
   "execution_count": 6,
   "metadata": {},
   "outputs": [],
   "source": [
    "from squeze.squeze_common_functions import load_json, deserialize\n",
    "test_dfs = [deserialize(load_json(sample)) for sample in test_samples]\n",
    "quasar_test_dfs = [deserialize(load_json(sample)) for sample in quasar_test_samples]"
   ]
  },
  {
   "cell_type": "markdown",
   "metadata": {},
   "source": [
    "## compute purity and completeness"
   ]
  },
  {
   "cell_type": "code",
   "execution_count": 8,
   "metadata": {},
   "outputs": [],
   "source": [
    "from candidates import CombCandidates\n",
    "candidates = CombCandidates(mode=\"test\")"
   ]
  },
  {
   "cell_type": "code",
   "execution_count": 9,
   "metadata": {},
   "outputs": [
    {
     "name": "stdout",
     "output_type": "stream",
     "text": [
      "\n",
      "-----------------------------------\n",
      "Statistics for test sample 0\n",
      "-----------------------------------\n",
      "\n",
      "There are 6526 candidates  \n",
      "for 6476 catalogued quasars \n",
      "number of quasars = 6476 \n",
      "found quasars = 6325 \n",
      "completeness = 97.67% \n",
      "completeness z>=1 = 98.55% \n",
      "completeness z>=2.1 = 99.01% \n",
      "purity = 96.92% \n",
      "purity z >=1 = 98.66% \n",
      "purity z >=2.1 = 99.62% \n",
      "\n",
      "-----------------------------------\n",
      "Statistics for test sample 1\n",
      "-----------------------------------\n",
      "\n",
      "There are 6580 candidates  \n",
      "for 6680 catalogued quasars \n",
      "number of quasars = 6680 \n",
      "found quasars = 6468 \n",
      "completeness = 96.83% \n",
      "completeness z>=1 = 97.80% \n",
      "completeness z>=2.1 = 98.63% \n",
      "purity = 98.28% \n",
      "purity z >=1 = 99.11% \n",
      "purity z >=2.1 = 99.63% \n",
      "\n",
      "-----------------------------------\n",
      "Statistics for test sample 2\n",
      "-----------------------------------\n",
      "\n",
      "There are 6964 candidates  \n",
      "for 6961 catalogued quasars \n",
      "number of quasars = 6961 \n",
      "found quasars = 6784 \n",
      "completeness = 97.46% \n",
      "completeness z>=1 = 98.39% \n",
      "completeness z>=2.1 = 98.89% \n",
      "purity = 97.42% \n",
      "purity z >=1 = 98.79% \n",
      "purity z >=2.1 = 99.66% \n",
      "\n",
      "-----------------------------------\n",
      "Statistics for test sample 3\n",
      "-----------------------------------\n",
      "\n",
      "There are 6506 candidates  \n",
      "for 6480 catalogued quasars \n",
      "number of quasars = 6480 \n",
      "found quasars = 6307 \n",
      "completeness = 97.33% \n",
      "completeness z>=1 = 98.14% \n",
      "completeness z>=2.1 = 98.72% \n",
      "purity = 96.94% \n",
      "purity z >=1 = 98.58% \n",
      "purity z >=2.1 = 99.54% \n",
      "\n",
      "-----------------------------------\n",
      "Statistics for test sample 4\n",
      "-----------------------------------\n",
      "\n",
      "There are 6356 candidates  \n",
      "for 6383 catalogued quasars \n",
      "number of quasars = 6383 \n",
      "found quasars = 6220 \n",
      "completeness = 97.45% \n",
      "completeness z>=1 = 98.23% \n",
      "completeness z>=2.1 = 98.72% \n",
      "purity = 97.86% \n",
      "purity z >=1 = 98.77% \n",
      "purity z >=2.1 = 99.61% \n",
      "\n",
      "-----------------------------------\n",
      "Statistics for test sample 5\n",
      "-----------------------------------\n",
      "\n",
      "There are 6437 candidates  \n",
      "for 6398 catalogued quasars \n",
      "number of quasars = 6398 \n",
      "found quasars = 6263 \n",
      "completeness = 97.89% \n",
      "completeness z>=1 = 98.34% \n",
      "completeness z>=2.1 = 98.93% \n",
      "purity = 97.30% \n",
      "purity z >=1 = 99.21% \n",
      "purity z >=2.1 = 99.63% \n",
      "\n",
      "-----------------------------------\n",
      "Statistics for test sample 6\n",
      "-----------------------------------\n",
      "\n",
      "There are 7237 candidates  \n",
      "for 7212 catalogued quasars \n",
      "number of quasars = 7212 \n",
      "found quasars = 7049 \n",
      "completeness = 97.74% \n",
      "completeness z>=1 = 98.28% \n",
      "completeness z>=2.1 = 98.70% \n",
      "purity = 97.40% \n",
      "purity z >=1 = 98.90% \n",
      "purity z >=2.1 = 99.56% \n",
      "\n",
      "-----------------------------------\n",
      "Statistics for test sample 7\n",
      "-----------------------------------\n",
      "\n",
      "There are 6475 candidates  \n",
      "for 6462 catalogued quasars \n",
      "number of quasars = 6462 \n",
      "found quasars = 6285 \n",
      "completeness = 97.26% \n",
      "completeness z>=1 = 98.17% \n",
      "completeness z>=2.1 = 98.85% \n",
      "purity = 97.07% \n",
      "purity z >=1 = 98.60% \n",
      "purity z >=2.1 = 99.49% \n"
     ]
    }
   ],
   "source": [
    "prob = 0.32\n",
    "\n",
    "results = {}\n",
    "for (i, data_frame), quasar_df in zip(enumerate(test_dfs), quasar_test_dfs):\n",
    "    print(\"\\n-----------------------------------\")\n",
    "    print(\"Statistics for test sample {}\".format(i))\n",
    "    print(\"-----------------------------------\\n\")\n",
    "    results[i] = candidates.find_completeness_purity(quasar_df, data_frame[(data_frame[\"prob\"] > prob) &\n",
    "                                                                           ~(data_frame[\"duplicated\"])],# &\n",
    "                                                                           #(data_frame[\"z_conf_person\"] == 3)],\n",
    "                                                     get_results=True)"
   ]
  },
  {
   "cell_type": "markdown",
   "metadata": {},
   "source": [
    "# Combine the results"
   ]
  },
  {
   "cell_type": "code",
   "execution_count": 10,
   "metadata": {},
   "outputs": [
    {
     "data": {
      "text/html": [
       "<div>\n",
       "<style scoped>\n",
       "    .dataframe tbody tr th:only-of-type {\n",
       "        vertical-align: middle;\n",
       "    }\n",
       "\n",
       "    .dataframe tbody tr th {\n",
       "        vertical-align: top;\n",
       "    }\n",
       "\n",
       "    .dataframe thead th {\n",
       "        text-align: right;\n",
       "    }\n",
       "</style>\n",
       "<table border=\"1\" class=\"dataframe\">\n",
       "  <thead>\n",
       "    <tr style=\"text-align: right;\">\n",
       "      <th></th>\n",
       "      <th>purity</th>\n",
       "      <th>completeness</th>\n",
       "    </tr>\n",
       "  </thead>\n",
       "  <tbody>\n",
       "    <tr>\n",
       "      <th>0</th>\n",
       "      <td>0.969200</td>\n",
       "      <td>0.976683</td>\n",
       "    </tr>\n",
       "    <tr>\n",
       "      <th>1</th>\n",
       "      <td>0.982827</td>\n",
       "      <td>0.968263</td>\n",
       "    </tr>\n",
       "    <tr>\n",
       "      <th>2</th>\n",
       "      <td>0.974153</td>\n",
       "      <td>0.974573</td>\n",
       "    </tr>\n",
       "    <tr>\n",
       "      <th>3</th>\n",
       "      <td>0.969413</td>\n",
       "      <td>0.973302</td>\n",
       "    </tr>\n",
       "    <tr>\n",
       "      <th>4</th>\n",
       "      <td>0.978603</td>\n",
       "      <td>0.974463</td>\n",
       "    </tr>\n",
       "    <tr>\n",
       "      <th>5</th>\n",
       "      <td>0.972969</td>\n",
       "      <td>0.978900</td>\n",
       "    </tr>\n",
       "    <tr>\n",
       "      <th>6</th>\n",
       "      <td>0.974022</td>\n",
       "      <td>0.977399</td>\n",
       "    </tr>\n",
       "    <tr>\n",
       "      <th>7</th>\n",
       "      <td>0.970656</td>\n",
       "      <td>0.972609</td>\n",
       "    </tr>\n",
       "  </tbody>\n",
       "</table>\n",
       "</div>"
      ],
      "text/plain": [
       "     purity  completeness\n",
       "0  0.969200      0.976683\n",
       "1  0.982827      0.968263\n",
       "2  0.974153      0.974573\n",
       "3  0.969413      0.973302\n",
       "4  0.978603      0.974463\n",
       "5  0.972969      0.978900\n",
       "6  0.974022      0.977399\n",
       "7  0.970656      0.972609"
      ]
     },
     "execution_count": 10,
     "metadata": {},
     "output_type": "execute_result"
    }
   ],
   "source": [
    "import pandas as pd\n",
    "results_df = pd.DataFrame.from_dict(results, orient=\"index\", columns=[\"purity\", \"completeness\", \"found quasars\"])\n",
    "results_df = results_df.drop(\"found quasars\", axis=1)\n",
    "results_df"
   ]
  },
  {
   "cell_type": "code",
   "execution_count": 11,
   "metadata": {},
   "outputs": [
    {
     "data": {
      "text/plain": [
       "purity         97.40%\n",
       "completeness   97.45%\n",
       "dtype: float64"
      ]
     },
     "execution_count": 11,
     "metadata": {},
     "output_type": "execute_result"
    }
   ],
   "source": [
    "pd.options.display.float_format = '{:,.2%}'.format\n",
    "results_df.mean()"
   ]
  },
  {
   "cell_type": "code",
   "execution_count": 12,
   "metadata": {},
   "outputs": [
    {
     "data": {
      "text/plain": [
       "purity         0.47%\n",
       "completeness   0.33%\n",
       "dtype: float64"
      ]
     },
     "execution_count": 12,
     "metadata": {},
     "output_type": "execute_result"
    }
   ],
   "source": [
    "results_df.std()"
   ]
  },
  {
   "cell_type": "code",
   "execution_count": null,
   "metadata": {},
   "outputs": [],
   "source": []
  }
 ],
 "metadata": {
  "kernelspec": {
   "display_name": "Python 3",
   "language": "python",
   "name": "python3"
  },
  "language_info": {
   "codemirror_mode": {
    "name": "ipython",
    "version": 3
   },
   "file_extension": ".py",
   "mimetype": "text/x-python",
   "name": "python",
   "nbconvert_exporter": "python",
   "pygments_lexer": "ipython3",
   "version": "3.7.4"
  }
 },
 "nbformat": 4,
 "nbformat_minor": 4
}

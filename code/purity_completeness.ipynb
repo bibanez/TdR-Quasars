{
 "cells": [
  {
   "cell_type": "markdown",
   "metadata": {},
   "source": [
    "# Here are the list of datasets"
   ]
  },
  {
   "cell_type": "code",
   "execution_count": 1,
   "metadata": {},
   "outputs": [
    {
     "name": "stdout",
     "output_type": "stream",
     "text": [
      "validation samples:\n",
      " * ../sample_quasars\\processed_validation_64plates_sample0.json\n",
      " * ../sample_quasars\\processed_validation_64plates_sample1.json\n",
      " * ../sample_quasars\\processed_validation_64plates_sample2.json\n",
      " * ../sample_quasars\\processed_validation_64plates_sample3.json\n",
      " * ../sample_quasars\\processed_validation_64plates_sample4.json\n",
      " * ../sample_quasars\\processed_validation_64plates_sample5.json\n",
      " * ../sample_quasars\\processed_validation_64plates_sample6.json\n",
      " * ../sample_quasars\\processed_validation_64plates_sample7.json\n",
      "quasar validation samples:\n",
      " * ../original_samples\\quasars_validation_64plates_sample0.json\n",
      " * ../original_samples\\quasars_validation_64plates_sample1.json\n",
      " * ../original_samples\\quasars_validation_64plates_sample2.json\n",
      " * ../original_samples\\quasars_validation_64plates_sample3.json\n",
      " * ../original_samples\\quasars_validation_64plates_sample4.json\n",
      " * ../original_samples\\quasars_validation_64plates_sample5.json\n",
      " * ../original_samples\\quasars_validation_64plates_sample6.json\n",
      " * ../original_samples\\quasars_validation_64plates_sample7.json\n"
     ]
    }
   ],
   "source": [
    "import glob\n",
    "val_samples = sorted(glob.glob('../sample_quasars/*validation*'))\n",
    "quasar_val_samples = sorted(glob.glob('../original_samples/*validation*'))\n",
    "\n",
    "print(\"validation samples:\\n * \", end='')\n",
    "print(\"\\n * \".join(val_samples))\n",
    "print(\"quasar validation samples:\\n * \", end='')\n",
    "print(\"\\n * \".join(quasar_val_samples))\n"
   ]
  },
  {
   "cell_type": "markdown",
   "metadata": {},
   "source": [
    "# Load datasets"
   ]
  },
  {
   "cell_type": "code",
   "execution_count": 2,
   "metadata": {},
   "outputs": [],
   "source": [
    "from squeze.squeze_common_functions import load_json, deserialize\n",
    "val_dfs = [deserialize(load_json(sample)) for sample in val_samples]\n",
    "quasar_val_dfs = [deserialize(load_json(sample)) for sample in quasar_val_samples]"
   ]
  },
  {
   "cell_type": "markdown",
   "metadata": {},
   "source": [
    "# Compute purity and completeness"
   ]
  },
  {
   "cell_type": "code",
   "execution_count": 5,
   "metadata": {},
   "outputs": [],
   "source": [
    "from squeze.squeze_candidates import Candidates\n",
    "candidates = Candidates(mode=\"test\")"
   ]
  },
  {
   "cell_type": "code",
   "execution_count": 7,
   "metadata": {},
   "outputs": [
    {
     "name": "stdout",
     "output_type": "stream",
     "text": [
      "\n",
      "-----------------------------------\n",
      "Statistics for validation sample 0\n",
      "-----------------------------------\n",
      "\n"
     ]
    },
    {
     "name": "stderr",
     "output_type": "stream",
     "text": [
      "D:\\Work\\Quasars\\SQUEzE\\py\\squeze\\squeze_candidates.py:486: FutureWarning: \n",
      ".ix is deprecated. Please use\n",
      ".loc for label based indexing or\n",
      ".iloc for positional indexing\n",
      "\n",
      "See the documentation here:\n",
      "http://pandas.pydata.org/pandas-docs/stable/user_guide/indexing.html#ix-indexer-is-deprecated\n",
      "  specid = quasars_data_frame.ix[quasars_data_frame.index[index]][\"specid\"]\n",
      "D:\\Work\\Quasars\\SQUEzE\\py\\squeze\\squeze_candidates.py:490: FutureWarning: \n",
      ".ix is deprecated. Please use\n",
      ".loc for label based indexing or\n",
      ".iloc for positional indexing\n",
      "\n",
      "See the documentation here:\n",
      "http://pandas.pydata.org/pandas-docs/stable/user_guide/indexing.html#ix-indexer-is-deprecated\n",
      "  if quasars_data_frame.ix[quasars_data_frame.index[index]][\"z_vi\"] >= 2.1:\n",
      "D:\\Work\\Quasars\\SQUEzE\\py\\squeze\\squeze_candidates.py:493: FutureWarning: \n",
      ".ix is deprecated. Please use\n",
      ".loc for label based indexing or\n",
      ".iloc for positional indexing\n",
      "\n",
      "See the documentation here:\n",
      "http://pandas.pydata.org/pandas-docs/stable/user_guide/indexing.html#ix-indexer-is-deprecated\n",
      "  elif quasars_data_frame.ix[quasars_data_frame.index[index]][\"z_vi\"] >= 1:\n"
     ]
    },
    {
     "name": "stdout",
     "output_type": "stream",
     "text": [
      "There are 5487 candidates  \n",
      "for 6176 catalogued quasars \n",
      "number of quasars = 6176 \n",
      "found quasars = 5431 \n",
      "completeness = 87.94% \n",
      "completeness z>=1 = 87.33% \n",
      "completeness z>=2.1 = 87.89% \n",
      "purity = 98.98% \n",
      "purity z >=1 = 99.03% \n",
      "purity z >=2.1 = 99.74% \n",
      "\n",
      "-----------------------------------\n",
      "Statistics for validation sample 1\n",
      "-----------------------------------\n",
      "\n"
     ]
    },
    {
     "ename": "KeyError",
     "evalue": "'class_person'",
     "output_type": "error",
     "traceback": [
      "\u001b[1;31m---------------------------------------------------------------------------\u001b[0m",
      "\u001b[1;31mKeyError\u001b[0m                                  Traceback (most recent call last)",
      "\u001b[1;32mC:\\ProgramData\\Anaconda3\\lib\\site-packages\\pandas\\core\\indexes\\base.py\u001b[0m in \u001b[0;36mget_loc\u001b[1;34m(self, key, method, tolerance)\u001b[0m\n\u001b[0;32m   2896\u001b[0m             \u001b[1;32mtry\u001b[0m\u001b[1;33m:\u001b[0m\u001b[1;33m\u001b[0m\u001b[1;33m\u001b[0m\u001b[0m\n\u001b[1;32m-> 2897\u001b[1;33m                 \u001b[1;32mreturn\u001b[0m \u001b[0mself\u001b[0m\u001b[1;33m.\u001b[0m\u001b[0m_engine\u001b[0m\u001b[1;33m.\u001b[0m\u001b[0mget_loc\u001b[0m\u001b[1;33m(\u001b[0m\u001b[0mkey\u001b[0m\u001b[1;33m)\u001b[0m\u001b[1;33m\u001b[0m\u001b[1;33m\u001b[0m\u001b[0m\n\u001b[0m\u001b[0;32m   2898\u001b[0m             \u001b[1;32mexcept\u001b[0m \u001b[0mKeyError\u001b[0m\u001b[1;33m:\u001b[0m\u001b[1;33m\u001b[0m\u001b[1;33m\u001b[0m\u001b[0m\n",
      "\u001b[1;32mpandas\\_libs\\index.pyx\u001b[0m in \u001b[0;36mpandas._libs.index.IndexEngine.get_loc\u001b[1;34m()\u001b[0m\n",
      "\u001b[1;32mpandas\\_libs\\index.pyx\u001b[0m in \u001b[0;36mpandas._libs.index.IndexEngine.get_loc\u001b[1;34m()\u001b[0m\n",
      "\u001b[1;32mpandas\\_libs\\hashtable_class_helper.pxi\u001b[0m in \u001b[0;36mpandas._libs.hashtable.PyObjectHashTable.get_item\u001b[1;34m()\u001b[0m\n",
      "\u001b[1;32mpandas\\_libs\\hashtable_class_helper.pxi\u001b[0m in \u001b[0;36mpandas._libs.hashtable.PyObjectHashTable.get_item\u001b[1;34m()\u001b[0m\n",
      "\u001b[1;31mKeyError\u001b[0m: 'class_person'",
      "\nDuring handling of the above exception, another exception occurred:\n",
      "\u001b[1;31mKeyError\u001b[0m                                  Traceback (most recent call last)",
      "\u001b[1;32m<ipython-input-7-8b81656d20e6>\u001b[0m in \u001b[0;36m<module>\u001b[1;34m\u001b[0m\n\u001b[0;32m      7\u001b[0m     candidates.find_completeness_purity(quasar_df, data_frame[(data_frame[\"prob\"] > prob) &\n\u001b[0;32m      8\u001b[0m                                                               \u001b[1;31m#~(data_frame[\"duplicated\"]) &\u001b[0m\u001b[1;33m\u001b[0m\u001b[1;33m\u001b[0m\u001b[1;33m\u001b[0m\u001b[0m\n\u001b[1;32m----> 9\u001b[1;33m                                                               (data_frame[\"class_person\"] == 3)],\n\u001b[0m\u001b[0;32m     10\u001b[0m                                        lines=False)\n",
      "\u001b[1;32mC:\\ProgramData\\Anaconda3\\lib\\site-packages\\pandas\\core\\frame.py\u001b[0m in \u001b[0;36m__getitem__\u001b[1;34m(self, key)\u001b[0m\n\u001b[0;32m   2978\u001b[0m             \u001b[1;32mif\u001b[0m \u001b[0mself\u001b[0m\u001b[1;33m.\u001b[0m\u001b[0mcolumns\u001b[0m\u001b[1;33m.\u001b[0m\u001b[0mnlevels\u001b[0m \u001b[1;33m>\u001b[0m \u001b[1;36m1\u001b[0m\u001b[1;33m:\u001b[0m\u001b[1;33m\u001b[0m\u001b[1;33m\u001b[0m\u001b[0m\n\u001b[0;32m   2979\u001b[0m                 \u001b[1;32mreturn\u001b[0m \u001b[0mself\u001b[0m\u001b[1;33m.\u001b[0m\u001b[0m_getitem_multilevel\u001b[0m\u001b[1;33m(\u001b[0m\u001b[0mkey\u001b[0m\u001b[1;33m)\u001b[0m\u001b[1;33m\u001b[0m\u001b[1;33m\u001b[0m\u001b[0m\n\u001b[1;32m-> 2980\u001b[1;33m             \u001b[0mindexer\u001b[0m \u001b[1;33m=\u001b[0m \u001b[0mself\u001b[0m\u001b[1;33m.\u001b[0m\u001b[0mcolumns\u001b[0m\u001b[1;33m.\u001b[0m\u001b[0mget_loc\u001b[0m\u001b[1;33m(\u001b[0m\u001b[0mkey\u001b[0m\u001b[1;33m)\u001b[0m\u001b[1;33m\u001b[0m\u001b[1;33m\u001b[0m\u001b[0m\n\u001b[0m\u001b[0;32m   2981\u001b[0m             \u001b[1;32mif\u001b[0m \u001b[0mis_integer\u001b[0m\u001b[1;33m(\u001b[0m\u001b[0mindexer\u001b[0m\u001b[1;33m)\u001b[0m\u001b[1;33m:\u001b[0m\u001b[1;33m\u001b[0m\u001b[1;33m\u001b[0m\u001b[0m\n\u001b[0;32m   2982\u001b[0m                 \u001b[0mindexer\u001b[0m \u001b[1;33m=\u001b[0m \u001b[1;33m[\u001b[0m\u001b[0mindexer\u001b[0m\u001b[1;33m]\u001b[0m\u001b[1;33m\u001b[0m\u001b[1;33m\u001b[0m\u001b[0m\n",
      "\u001b[1;32mC:\\ProgramData\\Anaconda3\\lib\\site-packages\\pandas\\core\\indexes\\base.py\u001b[0m in \u001b[0;36mget_loc\u001b[1;34m(self, key, method, tolerance)\u001b[0m\n\u001b[0;32m   2897\u001b[0m                 \u001b[1;32mreturn\u001b[0m \u001b[0mself\u001b[0m\u001b[1;33m.\u001b[0m\u001b[0m_engine\u001b[0m\u001b[1;33m.\u001b[0m\u001b[0mget_loc\u001b[0m\u001b[1;33m(\u001b[0m\u001b[0mkey\u001b[0m\u001b[1;33m)\u001b[0m\u001b[1;33m\u001b[0m\u001b[1;33m\u001b[0m\u001b[0m\n\u001b[0;32m   2898\u001b[0m             \u001b[1;32mexcept\u001b[0m \u001b[0mKeyError\u001b[0m\u001b[1;33m:\u001b[0m\u001b[1;33m\u001b[0m\u001b[1;33m\u001b[0m\u001b[0m\n\u001b[1;32m-> 2899\u001b[1;33m                 \u001b[1;32mreturn\u001b[0m \u001b[0mself\u001b[0m\u001b[1;33m.\u001b[0m\u001b[0m_engine\u001b[0m\u001b[1;33m.\u001b[0m\u001b[0mget_loc\u001b[0m\u001b[1;33m(\u001b[0m\u001b[0mself\u001b[0m\u001b[1;33m.\u001b[0m\u001b[0m_maybe_cast_indexer\u001b[0m\u001b[1;33m(\u001b[0m\u001b[0mkey\u001b[0m\u001b[1;33m)\u001b[0m\u001b[1;33m)\u001b[0m\u001b[1;33m\u001b[0m\u001b[1;33m\u001b[0m\u001b[0m\n\u001b[0m\u001b[0;32m   2900\u001b[0m         \u001b[0mindexer\u001b[0m \u001b[1;33m=\u001b[0m \u001b[0mself\u001b[0m\u001b[1;33m.\u001b[0m\u001b[0mget_indexer\u001b[0m\u001b[1;33m(\u001b[0m\u001b[1;33m[\u001b[0m\u001b[0mkey\u001b[0m\u001b[1;33m]\u001b[0m\u001b[1;33m,\u001b[0m \u001b[0mmethod\u001b[0m\u001b[1;33m=\u001b[0m\u001b[0mmethod\u001b[0m\u001b[1;33m,\u001b[0m \u001b[0mtolerance\u001b[0m\u001b[1;33m=\u001b[0m\u001b[0mtolerance\u001b[0m\u001b[1;33m)\u001b[0m\u001b[1;33m\u001b[0m\u001b[1;33m\u001b[0m\u001b[0m\n\u001b[0;32m   2901\u001b[0m         \u001b[1;32mif\u001b[0m \u001b[0mindexer\u001b[0m\u001b[1;33m.\u001b[0m\u001b[0mndim\u001b[0m \u001b[1;33m>\u001b[0m \u001b[1;36m1\u001b[0m \u001b[1;32mor\u001b[0m \u001b[0mindexer\u001b[0m\u001b[1;33m.\u001b[0m\u001b[0msize\u001b[0m \u001b[1;33m>\u001b[0m \u001b[1;36m1\u001b[0m\u001b[1;33m:\u001b[0m\u001b[1;33m\u001b[0m\u001b[1;33m\u001b[0m\u001b[0m\n",
      "\u001b[1;32mpandas\\_libs\\index.pyx\u001b[0m in \u001b[0;36mpandas._libs.index.IndexEngine.get_loc\u001b[1;34m()\u001b[0m\n",
      "\u001b[1;32mpandas\\_libs\\index.pyx\u001b[0m in \u001b[0;36mpandas._libs.index.IndexEngine.get_loc\u001b[1;34m()\u001b[0m\n",
      "\u001b[1;32mpandas\\_libs\\hashtable_class_helper.pxi\u001b[0m in \u001b[0;36mpandas._libs.hashtable.PyObjectHashTable.get_item\u001b[1;34m()\u001b[0m\n",
      "\u001b[1;32mpandas\\_libs\\hashtable_class_helper.pxi\u001b[0m in \u001b[0;36mpandas._libs.hashtable.PyObjectHashTable.get_item\u001b[1;34m()\u001b[0m\n",
      "\u001b[1;31mKeyError\u001b[0m: 'class_person'"
     ]
    }
   ],
   "source": [
    "prob = 0.32\n",
    "\n",
    "for (i, data_frame), quasar_df in zip(enumerate(val_dfs), quasar_val_dfs):\n",
    "    print(\"\\n-----------------------------------\")\n",
    "    print(\"Statistics for validation sample {}\".format(i))\n",
    "    print(\"-----------------------------------\\n\")\n",
    "    candidates.find_completeness_purity(quasar_df, data_frame[(data_frame[\"prob\"] > prob) &\n",
    "                                                              #~(data_frame[\"duplicated\"]) &\n",
    "                                                              (data_frame[\"z_conf_person\"] == 3)],\n",
    "                                       lines=False)"
   ]
  },
  {
   "cell_type": "markdown",
   "metadata": {},
   "source": [
    "# Reproduce SQUEzE I results\n",
    "\n",
    "## List of datasets"
   ]
  },
  {
   "cell_type": "code",
   "execution_count": 4,
   "metadata": {},
   "outputs": [
    {
     "name": "stdout",
     "output_type": "stream",
     "text": [
      "test samples:\n",
      " * ../sample_quasars\\processed_test_64plates_sample0.json\n",
      " * ../sample_quasars\\processed_test_64plates_sample1.json\n",
      " * ../sample_quasars\\processed_test_64plates_sample2.json\n",
      " * ../sample_quasars\\processed_test_64plates_sample3.json\n",
      " * ../sample_quasars\\processed_test_64plates_sample4.json\n",
      " * ../sample_quasars\\processed_test_64plates_sample5.json\n",
      " * ../sample_quasars\\processed_test_64plates_sample6.json\n",
      " * ../sample_quasars\\processed_test_64plates_sample7.json\n",
      "quasar test samples:\n",
      " * ../original_samples\\quasars_test_64plates_sample0.json\n",
      " * ../original_samples\\quasars_test_64plates_sample1.json\n",
      " * ../original_samples\\quasars_test_64plates_sample2.json\n",
      " * ../original_samples\\quasars_test_64plates_sample3.json\n",
      " * ../original_samples\\quasars_test_64plates_sample4.json\n",
      " * ../original_samples\\quasars_test_64plates_sample5.json\n",
      " * ../original_samples\\quasars_test_64plates_sample6.json\n",
      " * ../original_samples\\quasars_test_64plates_sample7.json\n"
     ]
    }
   ],
   "source": [
    "import glob\n",
    "test_samples = sorted(glob.glob('../sample_quasars/*test*'))\n",
    "quasar_test_samples = sorted(glob.glob('../original_samples/*test*'))\n",
    "\n",
    "print(\"test samples:\\n * \", end='')\n",
    "print(\"\\n * \".join(test_samples))\n",
    "print(\"quasar test samples:\\n * \", end='')\n",
    "print(\"\\n * \".join(quasar_test_samples))"
   ]
  },
  {
   "cell_type": "markdown",
   "metadata": {},
   "source": [
    "## Load datasets"
   ]
  },
  {
   "cell_type": "code",
   "execution_count": 5,
   "metadata": {},
   "outputs": [],
   "source": [
    "from squeze.squeze_common_functions import load_json, deserialize\n",
    "test_dfs = [deserialize(load_json(sample)) for sample in test_samples]\n",
    "quasar_test_dfs = [deserialize(load_json(sample)) for sample in quasar_test_samples]"
   ]
  },
  {
   "cell_type": "markdown",
   "metadata": {},
   "source": [
    "## compute purity and completeness"
   ]
  },
  {
   "cell_type": "code",
   "execution_count": 9,
   "metadata": {},
   "outputs": [],
   "source": [
    "from candidates import CombCandidates\n",
    "candidates = CombCandidates(mode=\"test\")"
   ]
  },
  {
   "cell_type": "code",
   "execution_count": 15,
   "metadata": {},
   "outputs": [
    {
     "name": "stdout",
     "output_type": "stream",
     "text": [
      "\n",
      "-----------------------------------\n",
      "Statistics for test sample 0\n",
      "-----------------------------------\n",
      "\n",
      "There are 6526 candidates  \n",
      "for 6476 catalogued quasars \n",
      "number of quasars = 6476 \n",
      "found quasars = 6303 \n",
      "completeness = 97.33% \n",
      "completeness z>=1 = 98.32% \n",
      "completeness z>=2.1 = 98.79% \n",
      "purity = 96.66% \n",
      "purity z >=1 = 98.20% \n",
      "purity z >=2.1 = 99.40% \n",
      "\n",
      "-----------------------------------\n",
      "Statistics for test sample 1\n",
      "-----------------------------------\n",
      "\n",
      "There are 6580 candidates  \n",
      "for 6680 catalogued quasars \n",
      "number of quasars = 6680 \n",
      "found quasars = 6448 \n",
      "completeness = 96.53% \n",
      "completeness z>=1 = 97.57% \n",
      "completeness z>=2.1 = 98.42% \n",
      "purity = 98.04% \n",
      "purity z >=1 = 98.66% \n",
      "purity z >=2.1 = 99.53% \n",
      "\n",
      "-----------------------------------\n",
      "Statistics for test sample 2\n",
      "-----------------------------------\n",
      "\n",
      "There are 6964 candidates  \n",
      "for 6961 catalogued quasars \n",
      "number of quasars = 6961 \n",
      "found quasars = 6754 \n",
      "completeness = 97.03% \n",
      "completeness z>=1 = 98.08% \n",
      "completeness z>=2.1 = 98.53% \n",
      "purity = 97.09% \n",
      "purity z >=1 = 98.13% \n",
      "purity z >=2.1 = 99.43% \n",
      "\n",
      "-----------------------------------\n",
      "Statistics for test sample 3\n",
      "-----------------------------------\n",
      "\n",
      "There are 6506 candidates  \n",
      "for 6480 catalogued quasars \n",
      "number of quasars = 6480 \n",
      "found quasars = 6271 \n",
      "completeness = 96.77% \n",
      "completeness z>=1 = 97.66% \n",
      "completeness z>=2.1 = 98.30% \n",
      "purity = 96.48% \n",
      "purity z >=1 = 97.76% \n",
      "purity z >=2.1 = 99.22% \n",
      "\n",
      "-----------------------------------\n",
      "Statistics for test sample 4\n",
      "-----------------------------------\n",
      "\n",
      "There are 6356 candidates  \n",
      "for 6383 catalogued quasars \n",
      "number of quasars = 6383 \n",
      "found quasars = 6189 \n",
      "completeness = 96.96% \n",
      "completeness z>=1 = 97.82% \n",
      "completeness z>=2.1 = 98.31% \n",
      "purity = 97.48% \n",
      "purity z >=1 = 98.15% \n",
      "purity z >=2.1 = 99.36% \n",
      "\n",
      "-----------------------------------\n",
      "Statistics for test sample 5\n",
      "-----------------------------------\n",
      "\n",
      "There are 6437 candidates  \n",
      "for 6398 catalogued quasars \n",
      "number of quasars = 6398 \n",
      "found quasars = 6237 \n",
      "completeness = 97.48% \n",
      "completeness z>=1 = 97.98% \n",
      "completeness z>=2.1 = 98.59% \n",
      "purity = 96.97% \n",
      "purity z >=1 = 98.54% \n",
      "purity z >=2.1 = 99.35% \n",
      "\n",
      "-----------------------------------\n",
      "Statistics for test sample 6\n",
      "-----------------------------------\n",
      "\n",
      "There are 7237 candidates  \n",
      "for 7212 catalogued quasars \n",
      "number of quasars = 7212 \n",
      "found quasars = 7027 \n",
      "completeness = 97.43% \n",
      "completeness z>=1 = 98.08% \n",
      "completeness z>=2.1 = 98.59% \n",
      "purity = 97.19% \n",
      "purity z >=1 = 98.51% \n",
      "purity z >=2.1 = 99.44% \n",
      "\n",
      "-----------------------------------\n",
      "Statistics for test sample 7\n",
      "-----------------------------------\n",
      "\n",
      "There are 6475 candidates  \n",
      "for 6462 catalogued quasars \n",
      "number of quasars = 6462 \n",
      "found quasars = 6276 \n",
      "completeness = 97.12% \n",
      "completeness z>=1 = 97.99% \n",
      "completeness z>=2.1 = 98.64% \n",
      "purity = 97.00% \n",
      "purity z >=1 = 98.33% \n",
      "purity z >=2.1 = 99.43% \n"
     ]
    }
   ],
   "source": [
    "prob = 0.32\n",
    "\n",
    "results = {}\n",
    "for (i, data_frame), quasar_df in zip(enumerate(test_dfs), quasar_test_dfs):\n",
    "    print(\"\\n-----------------------------------\")\n",
    "    print(\"Statistics for test sample {}\".format(i))\n",
    "    print(\"-----------------------------------\\n\")\n",
    "    results[i] = candidates.find_completeness_purity(quasar_df, data_frame[(data_frame[\"prob\"] > prob)],\n",
    "                                                     get_results=True)"
   ]
  },
  {
   "cell_type": "markdown",
   "metadata": {},
   "source": [
    "# Combine the results"
   ]
  },
  {
   "cell_type": "code",
   "execution_count": 16,
   "metadata": {},
   "outputs": [
    {
     "data": {
      "text/html": [
       "<div>\n",
       "<style scoped>\n",
       "    .dataframe tbody tr th:only-of-type {\n",
       "        vertical-align: middle;\n",
       "    }\n",
       "\n",
       "    .dataframe tbody tr th {\n",
       "        vertical-align: top;\n",
       "    }\n",
       "\n",
       "    .dataframe thead th {\n",
       "        text-align: right;\n",
       "    }\n",
       "</style>\n",
       "<table border=\"1\" class=\"dataframe\">\n",
       "  <thead>\n",
       "    <tr style=\"text-align: right;\">\n",
       "      <th></th>\n",
       "      <th>purity</th>\n",
       "      <th>completeness</th>\n",
       "    </tr>\n",
       "  </thead>\n",
       "  <tbody>\n",
       "    <tr>\n",
       "      <th>0</th>\n",
       "      <td>96.66%</td>\n",
       "      <td>97.33%</td>\n",
       "    </tr>\n",
       "    <tr>\n",
       "      <th>1</th>\n",
       "      <td>98.04%</td>\n",
       "      <td>96.53%</td>\n",
       "    </tr>\n",
       "    <tr>\n",
       "      <th>2</th>\n",
       "      <td>97.09%</td>\n",
       "      <td>97.03%</td>\n",
       "    </tr>\n",
       "    <tr>\n",
       "      <th>3</th>\n",
       "      <td>96.48%</td>\n",
       "      <td>96.77%</td>\n",
       "    </tr>\n",
       "    <tr>\n",
       "      <th>4</th>\n",
       "      <td>97.48%</td>\n",
       "      <td>96.96%</td>\n",
       "    </tr>\n",
       "    <tr>\n",
       "      <th>5</th>\n",
       "      <td>96.97%</td>\n",
       "      <td>97.48%</td>\n",
       "    </tr>\n",
       "    <tr>\n",
       "      <th>6</th>\n",
       "      <td>97.19%</td>\n",
       "      <td>97.43%</td>\n",
       "    </tr>\n",
       "    <tr>\n",
       "      <th>7</th>\n",
       "      <td>97.00%</td>\n",
       "      <td>97.12%</td>\n",
       "    </tr>\n",
       "  </tbody>\n",
       "</table>\n",
       "</div>"
      ],
      "text/plain": [
       "   purity  completeness\n",
       "0  96.66%        97.33%\n",
       "1  98.04%        96.53%\n",
       "2  97.09%        97.03%\n",
       "3  96.48%        96.77%\n",
       "4  97.48%        96.96%\n",
       "5  96.97%        97.48%\n",
       "6  97.19%        97.43%\n",
       "7  97.00%        97.12%"
      ]
     },
     "execution_count": 16,
     "metadata": {},
     "output_type": "execute_result"
    }
   ],
   "source": [
    "import pandas as pd\n",
    "results_df = pd.DataFrame.from_dict(results, orient=\"index\", columns=[\"purity\", \"completeness\", \"found quasars\"])\n",
    "results_df = results_df.drop(\"found quasars\", axis=1)\n",
    "results_df"
   ]
  },
  {
   "cell_type": "code",
   "execution_count": 17,
   "metadata": {},
   "outputs": [
    {
     "data": {
      "text/plain": [
       "purity         97.11%\n",
       "completeness   97.08%\n",
       "dtype: float64"
      ]
     },
     "execution_count": 17,
     "metadata": {},
     "output_type": "execute_result"
    }
   ],
   "source": [
    "pd.options.display.float_format = '{:,.2%}'.format\n",
    "results_df.mean()"
   ]
  },
  {
   "cell_type": "code",
   "execution_count": 18,
   "metadata": {},
   "outputs": [
    {
     "data": {
      "text/plain": [
       "purity         0.48%\n",
       "completeness   0.33%\n",
       "dtype: float64"
      ]
     },
     "execution_count": 18,
     "metadata": {},
     "output_type": "execute_result"
    }
   ],
   "source": [
    "results_df.std()"
   ]
  },
  {
   "cell_type": "code",
   "execution_count": null,
   "metadata": {},
   "outputs": [],
   "source": []
  }
 ],
 "metadata": {
  "kernelspec": {
   "display_name": "Python 3",
   "language": "python",
   "name": "python3"
  },
  "language_info": {
   "codemirror_mode": {
    "name": "ipython",
    "version": 3
   },
   "file_extension": ".py",
   "mimetype": "text/x-python",
   "name": "python",
   "nbconvert_exporter": "python",
   "pygments_lexer": "ipython3",
   "version": "3.7.4"
  }
 },
 "nbformat": 4,
 "nbformat_minor": 4
}

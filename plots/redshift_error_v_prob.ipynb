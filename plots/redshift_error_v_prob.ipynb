{
 "cells": [
  {
   "cell_type": "code",
   "execution_count": 2,
   "metadata": {},
   "outputs": [],
   "source": [
    "from squeze.squeze_common_functions import deserialize, load_json\n",
    "import matplotlib.pyplot as plt\n",
    "import pandas as pd\n",
    "import numpy as np"
   ]
  },
  {
   "cell_type": "code",
   "execution_count": 3,
   "metadata": {},
   "outputs": [
    {
     "name": "stdout",
     "output_type": "stream",
     "text": [
      "[?] Loading file...\n",
      "[?] File loaded!\n"
     ]
    }
   ],
   "source": [
    "print(\"[?] Loading file...\")\n",
    "df = deserialize(load_json(\"../sample_quasars/processed_test_64plates_sample0.json\"))\n",
    "print(\"[?] File loaded!\")"
   ]
  },
  {
   "cell_type": "code",
   "execution_count": 3,
   "metadata": {},
   "outputs": [
    {
     "data": {
      "text/html": [
       "<div>\n",
       "<style scoped>\n",
       "    .dataframe tbody tr th:only-of-type {\n",
       "        vertical-align: middle;\n",
       "    }\n",
       "\n",
       "    .dataframe tbody tr th {\n",
       "        vertical-align: top;\n",
       "    }\n",
       "\n",
       "    .dataframe thead th {\n",
       "        text-align: right;\n",
       "    }\n",
       "</style>\n",
       "<table border=\"1\" class=\"dataframe\">\n",
       "  <thead>\n",
       "    <tr style=\"text-align: right;\">\n",
       "      <th></th>\n",
       "      <th>specid</th>\n",
       "      <th>z_true</th>\n",
       "      <th>z_try</th>\n",
       "      <th>prob</th>\n",
       "      <th>z_conf_person</th>\n",
       "      <th>Delta_z</th>\n",
       "      <th>is_correct</th>\n",
       "    </tr>\n",
       "  </thead>\n",
       "  <tbody>\n",
       "    <tr>\n",
       "      <td>0</td>\n",
       "      <td>-1</td>\n",
       "      <td>2.485</td>\n",
       "      <td>2.476707</td>\n",
       "      <td>1.000000</td>\n",
       "      <td>3</td>\n",
       "      <td>-0.008293</td>\n",
       "      <td>True</td>\n",
       "    </tr>\n",
       "    <tr>\n",
       "      <td>1</td>\n",
       "      <td>51698058</td>\n",
       "      <td>2.856</td>\n",
       "      <td>2.865626</td>\n",
       "      <td>1.000000</td>\n",
       "      <td>3</td>\n",
       "      <td>0.009626</td>\n",
       "      <td>True</td>\n",
       "    </tr>\n",
       "    <tr>\n",
       "      <td>2</td>\n",
       "      <td>51877283</td>\n",
       "      <td>2.245</td>\n",
       "      <td>2.248694</td>\n",
       "      <td>0.981998</td>\n",
       "      <td>3</td>\n",
       "      <td>0.003694</td>\n",
       "      <td>True</td>\n",
       "    </tr>\n",
       "    <tr>\n",
       "      <td>3</td>\n",
       "      <td>51983173</td>\n",
       "      <td>3.737</td>\n",
       "      <td>3.745694</td>\n",
       "      <td>0.965486</td>\n",
       "      <td>3</td>\n",
       "      <td>0.008694</td>\n",
       "      <td>True</td>\n",
       "    </tr>\n",
       "    <tr>\n",
       "      <td>4</td>\n",
       "      <td>52690904</td>\n",
       "      <td>2.524</td>\n",
       "      <td>2.527421</td>\n",
       "      <td>0.993024</td>\n",
       "      <td>3</td>\n",
       "      <td>0.003421</td>\n",
       "      <td>True</td>\n",
       "    </tr>\n",
       "    <tr>\n",
       "      <td>5</td>\n",
       "      <td>52790999</td>\n",
       "      <td>2.243</td>\n",
       "      <td>2.237040</td>\n",
       "      <td>0.988296</td>\n",
       "      <td>3</td>\n",
       "      <td>-0.005960</td>\n",
       "      <td>True</td>\n",
       "    </tr>\n",
       "    <tr>\n",
       "      <td>6</td>\n",
       "      <td>52833050</td>\n",
       "      <td>2.221</td>\n",
       "      <td>2.211245</td>\n",
       "      <td>0.999000</td>\n",
       "      <td>3</td>\n",
       "      <td>-0.009755</td>\n",
       "      <td>True</td>\n",
       "    </tr>\n",
       "    <tr>\n",
       "      <td>7</td>\n",
       "      <td>52833056</td>\n",
       "      <td>2.196</td>\n",
       "      <td>2.202462</td>\n",
       "      <td>0.999000</td>\n",
       "      <td>3</td>\n",
       "      <td>0.006462</td>\n",
       "      <td>True</td>\n",
       "    </tr>\n",
       "    <tr>\n",
       "      <td>8</td>\n",
       "      <td>52958317</td>\n",
       "      <td>2.302</td>\n",
       "      <td>2.290049</td>\n",
       "      <td>0.958693</td>\n",
       "      <td>3</td>\n",
       "      <td>-0.011951</td>\n",
       "      <td>True</td>\n",
       "    </tr>\n",
       "    <tr>\n",
       "      <td>9</td>\n",
       "      <td>52961635</td>\n",
       "      <td>2.497</td>\n",
       "      <td>2.496426</td>\n",
       "      <td>0.994986</td>\n",
       "      <td>3</td>\n",
       "      <td>-0.000574</td>\n",
       "      <td>True</td>\n",
       "    </tr>\n",
       "    <tr>\n",
       "      <td>10</td>\n",
       "      <td>52973114</td>\n",
       "      <td>2.373</td>\n",
       "      <td>2.374667</td>\n",
       "      <td>0.999000</td>\n",
       "      <td>3</td>\n",
       "      <td>0.001667</td>\n",
       "      <td>True</td>\n",
       "    </tr>\n",
       "    <tr>\n",
       "      <td>11</td>\n",
       "      <td>52990442</td>\n",
       "      <td>2.546</td>\n",
       "      <td>2.538750</td>\n",
       "      <td>0.999328</td>\n",
       "      <td>3</td>\n",
       "      <td>-0.007250</td>\n",
       "      <td>True</td>\n",
       "    </tr>\n",
       "    <tr>\n",
       "      <td>12</td>\n",
       "      <td>53003049</td>\n",
       "      <td>2.370</td>\n",
       "      <td>2.362833</td>\n",
       "      <td>0.997306</td>\n",
       "      <td>3</td>\n",
       "      <td>-0.007167</td>\n",
       "      <td>True</td>\n",
       "    </tr>\n",
       "    <tr>\n",
       "      <td>13</td>\n",
       "      <td>53011013</td>\n",
       "      <td>2.576</td>\n",
       "      <td>2.569706</td>\n",
       "      <td>0.990656</td>\n",
       "      <td>3</td>\n",
       "      <td>-0.006294</td>\n",
       "      <td>True</td>\n",
       "    </tr>\n",
       "    <tr>\n",
       "      <td>14</td>\n",
       "      <td>53064804</td>\n",
       "      <td>2.780</td>\n",
       "      <td>2.786488</td>\n",
       "      <td>0.975325</td>\n",
       "      <td>3</td>\n",
       "      <td>0.006488</td>\n",
       "      <td>True</td>\n",
       "    </tr>\n",
       "    <tr>\n",
       "      <td>15</td>\n",
       "      <td>53097034</td>\n",
       "      <td>0.956</td>\n",
       "      <td>0.960241</td>\n",
       "      <td>0.876018</td>\n",
       "      <td>3</td>\n",
       "      <td>0.004241</td>\n",
       "      <td>True</td>\n",
       "    </tr>\n",
       "    <tr>\n",
       "      <td>16</td>\n",
       "      <td>53120468</td>\n",
       "      <td>2.350</td>\n",
       "      <td>2.326297</td>\n",
       "      <td>0.991000</td>\n",
       "      <td>3</td>\n",
       "      <td>-0.023703</td>\n",
       "      <td>True</td>\n",
       "    </tr>\n",
       "    <tr>\n",
       "      <td>17</td>\n",
       "      <td>53137104</td>\n",
       "      <td>0.791</td>\n",
       "      <td>0.792736</td>\n",
       "      <td>0.931997</td>\n",
       "      <td>3</td>\n",
       "      <td>0.001736</td>\n",
       "      <td>True</td>\n",
       "    </tr>\n",
       "    <tr>\n",
       "      <td>18</td>\n",
       "      <td>53140194</td>\n",
       "      <td>2.319</td>\n",
       "      <td>2.318383</td>\n",
       "      <td>0.997996</td>\n",
       "      <td>3</td>\n",
       "      <td>-0.000617</td>\n",
       "      <td>True</td>\n",
       "    </tr>\n",
       "    <tr>\n",
       "      <td>19</td>\n",
       "      <td>53179349</td>\n",
       "      <td>2.555</td>\n",
       "      <td>2.564956</td>\n",
       "      <td>0.999662</td>\n",
       "      <td>3</td>\n",
       "      <td>0.009956</td>\n",
       "      <td>True</td>\n",
       "    </tr>\n",
       "  </tbody>\n",
       "</table>\n",
       "</div>"
      ],
      "text/plain": [
       "      specid  z_true     z_try      prob  z_conf_person   Delta_z  is_correct\n",
       "0         -1   2.485  2.476707  1.000000              3 -0.008293        True\n",
       "1   51698058   2.856  2.865626  1.000000              3  0.009626        True\n",
       "2   51877283   2.245  2.248694  0.981998              3  0.003694        True\n",
       "3   51983173   3.737  3.745694  0.965486              3  0.008694        True\n",
       "4   52690904   2.524  2.527421  0.993024              3  0.003421        True\n",
       "5   52790999   2.243  2.237040  0.988296              3 -0.005960        True\n",
       "6   52833050   2.221  2.211245  0.999000              3 -0.009755        True\n",
       "7   52833056   2.196  2.202462  0.999000              3  0.006462        True\n",
       "8   52958317   2.302  2.290049  0.958693              3 -0.011951        True\n",
       "9   52961635   2.497  2.496426  0.994986              3 -0.000574        True\n",
       "10  52973114   2.373  2.374667  0.999000              3  0.001667        True\n",
       "11  52990442   2.546  2.538750  0.999328              3 -0.007250        True\n",
       "12  53003049   2.370  2.362833  0.997306              3 -0.007167        True\n",
       "13  53011013   2.576  2.569706  0.990656              3 -0.006294        True\n",
       "14  53064804   2.780  2.786488  0.975325              3  0.006488        True\n",
       "15  53097034   0.956  0.960241  0.876018              3  0.004241        True\n",
       "16  53120468   2.350  2.326297  0.991000              3 -0.023703        True\n",
       "17  53137104   0.791  0.792736  0.931997              3  0.001736        True\n",
       "18  53140194   2.319  2.318383  0.997996              3 -0.000617        True\n",
       "19  53179349   2.555  2.564956  0.999662              3  0.009956        True"
      ]
     },
     "execution_count": 3,
     "metadata": {},
     "output_type": "execute_result"
    }
   ],
   "source": [
    "df.head(20)"
   ]
  },
  {
   "cell_type": "code",
   "execution_count": 21,
   "metadata": {},
   "outputs": [
    {
     "data": {
      "text/plain": [
       "Interval(0.966, 1.0, closed='right')"
      ]
     },
     "execution_count": 21,
     "metadata": {},
     "output_type": "execute_result"
    }
   ],
   "source": [
    "pd.cut(df[\"prob\"], 20).unique()[0]"
   ]
  },
  {
   "cell_type": "code",
   "execution_count": 16,
   "metadata": {},
   "outputs": [
    {
     "data": {
      "text/plain": [
       "(array([ 113.,   76.,   87.,   86.,   96.,   49.,   72.,  257.,  733.,\n",
       "        4957.]),\n",
       " array([0.32024462, 0.38822016, 0.4561957 , 0.52417124, 0.59214677,\n",
       "        0.66012231, 0.72809785, 0.79607339, 0.86404892, 0.93202446,\n",
       "        1.        ]),\n",
       " <a list of 10 Patch objects>)"
      ]
     },
     "execution_count": 16,
     "metadata": {},
     "output_type": "execute_result"
    },
    {
     "data": {
      "image/png": "[encoded data removed]",
      "text/plain": [
       "<Figure size 432x288 with 1 Axes>"
      ]
     },
     "metadata": {
      "needs_background": "light"
     },
     "output_type": "display_data"
    }
   ],
   "source": [
    "plt.hist(df[\"prob\"], bins=20)"
   ]
  },
  {
   "cell_type": "code",
   "execution_count": 23,
   "metadata": {},
   "outputs": [],
   "source": [
    "df = df.sort_values(by=\"prob\")"
   ]
  },
  {
   "cell_type": "code",
   "execution_count": 26,
   "metadata": {},
   "outputs": [
    {
     "data": {
      "text/plain": [
       "[<matplotlib.lines.Line2D at 0x26eb9968fc8>]"
      ]
     },
     "execution_count": 26,
     "metadata": {},
     "output_type": "execute_result"
    },
    {
     "data": {
      "image/png": "[encoded data removed]",
      "text/plain": [
       "<Figure size 432x288 with 1 Axes>"
      ]
     },
     "metadata": {
      "needs_background": "light"
     },
     "output_type": "display_data"
    }
   ],
   "source": [
    "plt.plot(df[\"prob\"], abs(df[\"Delta_z\"]))"
   ]
  },
  {
   "cell_type": "code",
   "execution_count": 5,
   "metadata": {},
   "outputs": [],
   "source": [
    "bins = np.linspace(0.32,1,20)\n",
    "group = df.groupby(pd.cut(df.prob, bins))"
   ]
  },
  {
   "cell_type": "code",
   "execution_count": 6,
   "metadata": {},
   "outputs": [],
   "source": [
    "plot_centers = (bins[:-1] + bins[1:])/2\n",
    "plot_values = group.Delta_z.mean()"
   ]
  },
  {
   "cell_type": "code",
   "execution_count": 41,
   "metadata": {},
   "outputs": [
    {
     "data": {
      "text/plain": [
       "array([0.32      , 0.35578947, 0.39157895, 0.42736842, 0.46315789,\n",
       "       0.49894737, 0.53473684, 0.57052632, 0.60631579, 0.64210526,\n",
       "       0.67789474, 0.71368421, 0.74947368, 0.78526316, 0.82105263,\n",
       "       0.85684211, 0.89263158, 0.92842105, 0.96421053])"
      ]
     },
     "execution_count": 41,
     "metadata": {},
     "output_type": "execute_result"
    }
   ],
   "source": [
    "bins[:-1]"
   ]
  },
  {
   "cell_type": "code",
   "execution_count": 42,
   "metadata": {},
   "outputs": [
    {
     "data": {
      "text/plain": [
       "array([0.35578947, 0.39157895, 0.42736842, 0.46315789, 0.49894737,\n",
       "       0.53473684, 0.57052632, 0.60631579, 0.64210526, 0.67789474,\n",
       "       0.71368421, 0.74947368, 0.78526316, 0.82105263, 0.85684211,\n",
       "       0.89263158, 0.92842105, 0.96421053, 1.        ])"
      ]
     },
     "execution_count": 42,
     "metadata": {},
     "output_type": "execute_result"
    }
   ],
   "source": [
    "bins[1:]"
   ]
  },
  {
   "cell_type": "code",
   "execution_count": 43,
   "metadata": {},
   "outputs": [
    {
     "data": {
      "text/plain": [
       "array([0.67578947, 0.74736842, 0.81894737, 0.89052632, 0.96210526,\n",
       "       1.03368421, 1.10526316, 1.17684211, 1.24842105, 1.32      ,\n",
       "       1.39157895, 1.46315789, 1.53473684, 1.60631579, 1.67789474,\n",
       "       1.74947368, 1.82105263, 1.89263158, 1.96421053])"
      ]
     },
     "execution_count": 43,
     "metadata": {},
     "output_type": "execute_result"
    }
   ],
   "source": [
    "bins[:-1] + bins[1:]"
   ]
  },
  {
   "cell_type": "code",
   "execution_count": 44,
   "metadata": {},
   "outputs": [
    {
     "data": {
      "text/plain": [
       "array([0.33789474, 0.37368421, 0.40947368, 0.44526316, 0.48105263,\n",
       "       0.51684211, 0.55263158, 0.58842105, 0.62421053, 0.66      ,\n",
       "       0.69578947, 0.73157895, 0.76736842, 0.80315789, 0.83894737,\n",
       "       0.87473684, 0.91052632, 0.94631579, 0.98210526])"
      ]
     },
     "execution_count": 44,
     "metadata": {},
     "output_type": "execute_result"
    }
   ],
   "source": [
    "(bins[:-1] + bins[1:])/2"
   ]
  },
  {
   "cell_type": "code",
   "execution_count": 13,
   "metadata": {},
   "outputs": [
    {
     "data": {
      "text/plain": [
       "[<matplotlib.lines.Line2D at 0x1b3dfc1ff48>]"
      ]
     },
     "execution_count": 13,
     "metadata": {},
     "output_type": "execute_result"
    },
    {
     "data": {
      "image/png": "[encoded data removed]",
      "text/plain": [
       "<Figure size 432x288 with 1 Axes>"
      ]
     },
     "metadata": {
      "needs_background": "light"
     },
     "output_type": "display_data"
    }
   ],
   "source": [
    "plt.plot(plot_centers, plot_values)"
   ]
  },
  {
   "cell_type": "code",
   "execution_count": 12,
   "metadata": {},
   "outputs": [
    {
     "data": {
      "text/plain": [
       "<BarContainer object of 19 artists>"
      ]
     },
     "execution_count": 12,
     "metadata": {},
     "output_type": "execute_result"
    },
    {
     "data": {
      "image/png": "[encoded data removed]",
      "text/plain": [
       "<Figure size 432x288 with 1 Axes>"
      ]
     },
     "metadata": {
      "needs_background": "light"
     },
     "output_type": "display_data"
    }
   ],
   "source": [
    "plt.bar(plot_centers, abs(plot_values), width=0.02)"
   ]
  },
  {
   "cell_type": "code",
   "execution_count": null,
   "metadata": {},
   "outputs": [],
   "source": []
  }
 ],
 "metadata": {
  "kernelspec": {
   "display_name": "Python 3",
   "language": "python",
   "name": "python3"
  },
  "language_info": {
   "codemirror_mode": {
    "name": "ipython",
    "version": 3
   },
   "file_extension": ".py",
   "mimetype": "text/x-python",
   "name": "python",
   "nbconvert_exporter": "python",
   "pygments_lexer": "ipython3",
   "version": "3.7.4"
  }
 },
 "nbformat": 4,
 "nbformat_minor": 4
}
